{
 "cells": [
  {
   "cell_type": "code",
   "execution_count": 41,
   "metadata": {
    "ExecuteTime": {
     "end_time": "2021-02-20T21:10:44.112339Z",
     "start_time": "2021-02-20T21:10:41.884630Z"
    }
   },
   "outputs": [
    {
     "name": "stdout",
     "output_type": "stream",
     "text": [
      "Requirement already satisfied: wget in /home/dmytro/anaconda3/lib/python3.8/site-packages (3.2)\r\n"
     ]
    }
   ],
   "source": [
    "!pip install wget"
   ]
  },
  {
   "cell_type": "code",
   "execution_count": 65,
   "metadata": {
    "ExecuteTime": {
     "end_time": "2021-02-20T22:17:09.688902Z",
     "start_time": "2021-02-20T22:17:09.678073Z"
    }
   },
   "outputs": [],
   "source": [
    "import pandas as pd\n",
    "import numpy as np\n",
    "from scipy.stats import mode\n",
    "\n",
    "from sklearn.feature_extraction.text import TfidfVectorizer\n",
    "from sklearn.preprocessing import OneHotEncoder, OrdinalEncoder\n",
    "from sklearn.model_selection import train_test_split\n",
    "from sklearn.compose import ColumnTransformer\n",
    "from sklearn.pipeline import Pipeline\n",
    "\n",
    "from xgboost import XGBRegressor\n",
    "\n",
    "from sklearn.metrics import mean_squared_error\n",
    "\n",
    "import matplotlib.pyplot as plt\n",
    "import seaborn as sns\n",
    "\n",
    "import wget\n",
    "import pickle"
   ]
  },
  {
   "cell_type": "code",
   "execution_count": 43,
   "metadata": {
    "ExecuteTime": {
     "end_time": "2021-02-20T21:10:44.159191Z",
     "start_time": "2021-02-20T21:10:44.154135Z"
    }
   },
   "outputs": [],
   "source": [
    "sns.set()"
   ]
  },
  {
   "cell_type": "code",
   "execution_count": 74,
   "metadata": {
    "ExecuteTime": {
     "end_time": "2021-02-20T22:20:46.991534Z",
     "start_time": "2021-02-20T22:20:46.483748Z"
    }
   },
   "outputs": [],
   "source": [
    "train_data = pd.read_csv('data/train.csv')"
   ]
  },
  {
   "cell_type": "code",
   "execution_count": 45,
   "metadata": {
    "ExecuteTime": {
     "end_time": "2021-02-20T21:10:44.700738Z",
     "start_time": "2021-02-20T21:10:44.696611Z"
    }
   },
   "outputs": [
    {
     "data": {
      "text/plain": [
       "'Language|Writing|Nonfiction'"
      ]
     },
     "execution_count": 45,
     "metadata": {},
     "output_type": "execute_result"
    }
   ],
   "source": [
    "train_data[\"book_genre\"][1]"
   ]
  },
  {
   "cell_type": "code",
   "execution_count": 47,
   "metadata": {
    "ExecuteTime": {
     "end_time": "2021-02-20T21:10:52.078805Z",
     "start_time": "2021-02-20T21:10:52.006744Z"
    }
   },
   "outputs": [
    {
     "data": {
      "text/html": [
       "<div>\n",
       "<style scoped>\n",
       "    .dataframe tbody tr th:only-of-type {\n",
       "        vertical-align: middle;\n",
       "    }\n",
       "\n",
       "    .dataframe tbody tr th {\n",
       "        vertical-align: top;\n",
       "    }\n",
       "\n",
       "    .dataframe thead th {\n",
       "        text-align: right;\n",
       "    }\n",
       "</style>\n",
       "<table border=\"1\" class=\"dataframe\">\n",
       "  <thead>\n",
       "    <tr style=\"text-align: right;\">\n",
       "      <th></th>\n",
       "      <th>id</th>\n",
       "      <th>book_title</th>\n",
       "      <th>book_image_url</th>\n",
       "      <th>book_desc</th>\n",
       "      <th>book_genre</th>\n",
       "      <th>book_authors</th>\n",
       "      <th>book_format</th>\n",
       "      <th>book_pages</th>\n",
       "      <th>book_review_count</th>\n",
       "      <th>book_rating_count</th>\n",
       "      <th>book_rating</th>\n",
       "    </tr>\n",
       "  </thead>\n",
       "  <tbody>\n",
       "    <tr>\n",
       "      <th>0</th>\n",
       "      <td>0</td>\n",
       "      <td>Forastera</td>\n",
       "      <td>https://images.gr-assets.com/books/1500683049l...</td>\n",
       "      <td>Recién acabada la Segunda Guerra Mundial, una ...</td>\n",
       "      <td>Historical|Historical Fiction|Romance|Fantasy|...</td>\n",
       "      <td>Diana Gabaldon|Carmen Bordeu</td>\n",
       "      <td>Kindle Edition</td>\n",
       "      <td>768 pages</td>\n",
       "      <td>40197</td>\n",
       "      <td>668892</td>\n",
       "      <td>4.22</td>\n",
       "    </tr>\n",
       "    <tr>\n",
       "      <th>1</th>\n",
       "      <td>1</td>\n",
       "      <td>Writing about Magic</td>\n",
       "      <td>https://images.gr-assets.com/books/1445900480l...</td>\n",
       "      <td>Do you write fantasy fiction? This book is a r...</td>\n",
       "      <td>Language|Writing|Nonfiction</td>\n",
       "      <td>Rayne Hall</td>\n",
       "      <td>Paperback</td>\n",
       "      <td>180 pages</td>\n",
       "      <td>27</td>\n",
       "      <td>126</td>\n",
       "      <td>3.95</td>\n",
       "    </tr>\n",
       "    <tr>\n",
       "      <th>2</th>\n",
       "      <td>2</td>\n",
       "      <td>The Stress of Her Regard</td>\n",
       "      <td>https://images.gr-assets.com/books/1503059955l...</td>\n",
       "      <td>When Michael Crawford discovers his bride brut...</td>\n",
       "      <td>Fantasy|Horror|Paranormal|Vampires|Historical|...</td>\n",
       "      <td>Tim Powers</td>\n",
       "      <td>Paperback</td>\n",
       "      <td>470 pages</td>\n",
       "      <td>331</td>\n",
       "      <td>3626</td>\n",
       "      <td>3.79</td>\n",
       "    </tr>\n",
       "    <tr>\n",
       "      <th>3</th>\n",
       "      <td>3</td>\n",
       "      <td>The Horrors and Absurdities of Religion</td>\n",
       "      <td>https://images.gr-assets.com/books/1409779869l...</td>\n",
       "      <td>A fascinating examination of ethics, religion ...</td>\n",
       "      <td>Philosophy|Religion|Nonfiction|Classics</td>\n",
       "      <td>Arthur Schopenhauer</td>\n",
       "      <td>Paperback</td>\n",
       "      <td>106 pages</td>\n",
       "      <td>28</td>\n",
       "      <td>371</td>\n",
       "      <td>3.85</td>\n",
       "    </tr>\n",
       "    <tr>\n",
       "      <th>4</th>\n",
       "      <td>4</td>\n",
       "      <td>Three Tales</td>\n",
       "      <td>https://images.gr-assets.com/books/1311645483l...</td>\n",
       "      <td>First published in 1877, these three stories a...</td>\n",
       "      <td>Fiction|Short Stories|Classics|Cultural|France...</td>\n",
       "      <td>Gustave Flaubert|Roger Whitehouse|Geoffrey Wall</td>\n",
       "      <td>Paperback</td>\n",
       "      <td>110 pages</td>\n",
       "      <td>250</td>\n",
       "      <td>4331</td>\n",
       "      <td>3.72</td>\n",
       "    </tr>\n",
       "  </tbody>\n",
       "</table>\n",
       "</div>"
      ],
      "text/plain": [
       "   id                               book_title  \\\n",
       "0   0                                Forastera   \n",
       "1   1                      Writing about Magic   \n",
       "2   2                 The Stress of Her Regard   \n",
       "3   3  The Horrors and Absurdities of Religion   \n",
       "4   4                              Three Tales   \n",
       "\n",
       "                                      book_image_url  \\\n",
       "0  https://images.gr-assets.com/books/1500683049l...   \n",
       "1  https://images.gr-assets.com/books/1445900480l...   \n",
       "2  https://images.gr-assets.com/books/1503059955l...   \n",
       "3  https://images.gr-assets.com/books/1409779869l...   \n",
       "4  https://images.gr-assets.com/books/1311645483l...   \n",
       "\n",
       "                                           book_desc  \\\n",
       "0  Recién acabada la Segunda Guerra Mundial, una ...   \n",
       "1  Do you write fantasy fiction? This book is a r...   \n",
       "2  When Michael Crawford discovers his bride brut...   \n",
       "3  A fascinating examination of ethics, religion ...   \n",
       "4  First published in 1877, these three stories a...   \n",
       "\n",
       "                                          book_genre  \\\n",
       "0  Historical|Historical Fiction|Romance|Fantasy|...   \n",
       "1                        Language|Writing|Nonfiction   \n",
       "2  Fantasy|Horror|Paranormal|Vampires|Historical|...   \n",
       "3            Philosophy|Religion|Nonfiction|Classics   \n",
       "4  Fiction|Short Stories|Classics|Cultural|France...   \n",
       "\n",
       "                                      book_authors     book_format book_pages  \\\n",
       "0                     Diana Gabaldon|Carmen Bordeu  Kindle Edition  768 pages   \n",
       "1                                       Rayne Hall       Paperback  180 pages   \n",
       "2                                       Tim Powers       Paperback  470 pages   \n",
       "3                              Arthur Schopenhauer       Paperback  106 pages   \n",
       "4  Gustave Flaubert|Roger Whitehouse|Geoffrey Wall       Paperback  110 pages   \n",
       "\n",
       "   book_review_count  book_rating_count  book_rating  \n",
       "0              40197             668892         4.22  \n",
       "1                 27                126         3.95  \n",
       "2                331               3626         3.79  \n",
       "3                 28                371         3.85  \n",
       "4                250               4331         3.72  "
      ]
     },
     "execution_count": 47,
     "metadata": {},
     "output_type": "execute_result"
    }
   ],
   "source": [
    "train_data.head()"
   ]
  },
  {
   "cell_type": "code",
   "execution_count": null,
   "metadata": {
    "ExecuteTime": {
     "end_time": "2021-02-20T21:10:44.723560Z",
     "start_time": "2021-02-20T21:10:41.912Z"
    }
   },
   "outputs": [],
   "source": [
    "train_data.info()"
   ]
  },
  {
   "cell_type": "markdown",
   "metadata": {},
   "source": [
    "## book_desc"
   ]
  },
  {
   "cell_type": "code",
   "execution_count": null,
   "metadata": {
    "ExecuteTime": {
     "end_time": "2021-02-20T21:10:44.724234Z",
     "start_time": "2021-02-20T21:10:42.021Z"
    }
   },
   "outputs": [],
   "source": [
    "train_data[train_data['book_image_url'].isna()]['book_rating'].value_counts()"
   ]
  },
  {
   "cell_type": "code",
   "execution_count": null,
   "metadata": {
    "ExecuteTime": {
     "end_time": "2021-02-20T21:10:44.725311Z",
     "start_time": "2021-02-20T21:10:42.023Z"
    }
   },
   "outputs": [],
   "source": [
    "train_data.loc[train_data['book_rating'] < 2,'book_image_url']"
   ]
  },
  {
   "cell_type": "code",
   "execution_count": null,
   "metadata": {
    "ExecuteTime": {
     "end_time": "2021-02-20T21:10:44.725988Z",
     "start_time": "2021-02-20T21:10:42.026Z"
    }
   },
   "outputs": [],
   "source": [
    "def get_pixel(url):\n",
    "    img = plt.imread(wget.download(url))\n",
    "    return mode(img.flatten())[0][0]"
   ]
  },
  {
   "cell_type": "code",
   "execution_count": null,
   "metadata": {
    "ExecuteTime": {
     "end_time": "2021-02-20T21:10:44.726751Z",
     "start_time": "2021-02-20T21:10:42.029Z"
    }
   },
   "outputs": [],
   "source": [
    "train_data['book_pixel'] = train_data['book_image_url'].map(get_pixel)"
   ]
  },
  {
   "cell_type": "code",
   "execution_count": 78,
   "metadata": {
    "ExecuteTime": {
     "end_time": "2021-02-20T22:22:56.693429Z",
     "start_time": "2021-02-20T22:22:56.652581Z"
    }
   },
   "outputs": [
    {
     "data": {
      "text/plain": [
       "0    Fiction\n",
       "dtype: object"
      ]
     },
     "execution_count": 78,
     "metadata": {},
     "output_type": "execute_result"
    }
   ],
   "source": [
    "train_data['book_genre'].mode()"
   ]
  },
  {
   "cell_type": "code",
   "execution_count": 79,
   "metadata": {
    "ExecuteTime": {
     "end_time": "2021-02-20T22:23:12.506984Z",
     "start_time": "2021-02-20T22:23:12.477303Z"
    }
   },
   "outputs": [],
   "source": [
    "train_data['book_genre'] = train_data['book_genre'].fillna(\"Fiction\")"
   ]
  },
  {
   "cell_type": "code",
   "execution_count": 80,
   "metadata": {
    "ExecuteTime": {
     "end_time": "2021-02-20T22:23:14.780660Z",
     "start_time": "2021-02-20T22:23:14.330437Z"
    }
   },
   "outputs": [],
   "source": [
    "def get_dict_authors():\n",
    "    d = {}\n",
    "    for line in train_data['book_authors'].values:\n",
    "        for author in np.unique(line.split('|')):\n",
    "            d.setdefault(author, 0)\n",
    "            d[author] += 1\n",
    "    \n",
    "    return d\n",
    "\n",
    "dict_authors = get_dict_authors()"
   ]
  },
  {
   "cell_type": "code",
   "execution_count": 81,
   "metadata": {
    "ExecuteTime": {
     "end_time": "2021-02-20T22:23:17.232747Z",
     "start_time": "2021-02-20T22:23:16.559879Z"
    }
   },
   "outputs": [],
   "source": [
    "def get_dict_genres():\n",
    "    d = {}\n",
    "    for line in train_data['book_genre'].values:\n",
    "        for genre in np.unique(line.split('|')):\n",
    "            d.setdefault(genre, 0)\n",
    "            d[genre] += 1\n",
    "    \n",
    "    return d\n",
    "\n",
    "dict_genres = get_dict_genres()"
   ]
  },
  {
   "cell_type": "code",
   "execution_count": 91,
   "metadata": {
    "ExecuteTime": {
     "end_time": "2021-02-20T22:28:50.911360Z",
     "start_time": "2021-02-20T22:28:50.660232Z"
    }
   },
   "outputs": [],
   "source": [
    "pickle.dump(dict_authors, open('../app/models/author_dict.pickle', 'wb'))\n",
    "pickle.dump(dict_genres, open('../app/models/genre_dict.pickle', 'wb'))\n",
    "\n"
   ]
  },
  {
   "cell_type": "code",
   "execution_count": null,
   "metadata": {},
   "outputs": [],
   "source": []
  },
  {
   "cell_type": "code",
   "execution_count": 82,
   "metadata": {
    "ExecuteTime": {
     "end_time": "2021-02-20T22:23:22.160786Z",
     "start_time": "2021-02-20T22:23:21.679685Z"
    }
   },
   "outputs": [],
   "source": [
    "def get_book_count(s):\n",
    "    arr = []\n",
    "    for author in np.unique(s.split('|')):\n",
    "        arr.append(dict_authors.get(author, 0))\n",
    "    \n",
    "    return max(arr)\n",
    "        \n",
    "train_data['book_count'] = train_data['book_authors'].map(get_book_count)"
   ]
  },
  {
   "cell_type": "code",
   "execution_count": 83,
   "metadata": {
    "ExecuteTime": {
     "end_time": "2021-02-20T22:23:23.670181Z",
     "start_time": "2021-02-20T22:23:22.973693Z"
    }
   },
   "outputs": [],
   "source": [
    "def get_genre_count(s):\n",
    "    arr = []\n",
    "    for genre in np.unique(s.split('|')):\n",
    "        arr.append(dict_genres.get(genre, 0))\n",
    "    \n",
    "    return max(arr)\n",
    "        \n",
    "train_data['genre_count'] = train_data['book_genre'].map(get_genre_count)"
   ]
  },
  {
   "cell_type": "code",
   "execution_count": null,
   "metadata": {
    "ExecuteTime": {
     "end_time": "2021-02-20T21:10:44.728315Z",
     "start_time": "2021-02-20T21:10:42.034Z"
    }
   },
   "outputs": [],
   "source": [
    "train_data['book_authors'] = train_data['book_authors'].map(lambda s: '|'.join(np.unique(s.split('|'))))\n",
    "train_data['book_count'] = train_data.groupby(by='book_authors')['book_title'].transform('count')\n",
    "# train_data['book_count'] = train_data['book_count'].map(lambda s: 3 if s > 3 else s)"
   ]
  },
  {
   "cell_type": "code",
   "execution_count": null,
   "metadata": {},
   "outputs": [],
   "source": []
  },
  {
   "cell_type": "code",
   "execution_count": 84,
   "metadata": {
    "ExecuteTime": {
     "end_time": "2021-02-20T22:23:35.587135Z",
     "start_time": "2021-02-20T22:23:35.459850Z"
    }
   },
   "outputs": [],
   "source": [
    "train_data['book_pages'] = pd.to_numeric(train_data['book_pages'].str.extract(r'(\\d+)', expand=False), errors='coerce')\n",
    "train_data['book_pages'] = train_data['book_pages'].fillna(320)"
   ]
  },
  {
   "cell_type": "code",
   "execution_count": null,
   "metadata": {
    "ExecuteTime": {
     "end_time": "2021-02-20T21:10:44.729462Z",
     "start_time": "2021-02-20T21:10:42.038Z"
    }
   },
   "outputs": [],
   "source": [
    "train_data['book_pages'].value_counts()"
   ]
  },
  {
   "cell_type": "code",
   "execution_count": null,
   "metadata": {},
   "outputs": [],
   "source": []
  },
  {
   "cell_type": "code",
   "execution_count": 85,
   "metadata": {
    "ExecuteTime": {
     "end_time": "2021-02-20T22:23:38.071938Z",
     "start_time": "2021-02-20T22:23:38.040245Z"
    }
   },
   "outputs": [],
   "source": [
    "X = train_data.drop(columns='book_rating')\n",
    "y = train_data['book_rating']\n",
    "X_train, X_valid, y_train, y_valid = train_test_split(X, y, test_size=0.2, random_state=42, shuffle=True)"
   ]
  },
  {
   "cell_type": "code",
   "execution_count": 86,
   "metadata": {
    "ExecuteTime": {
     "end_time": "2021-02-20T22:23:45.172665Z",
     "start_time": "2021-02-20T22:23:40.992653Z"
    }
   },
   "outputs": [],
   "source": [
    "vectorizer = TfidfVectorizer(ngram_range=(1, 1), max_df=1.0, min_df=0.1)\n",
    "X_train_vectorized = vectorizer.fit_transform(X_train['book_desc'])\n",
    "X_valid_vectorized = vectorizer.transform(X_valid['book_desc'])"
   ]
  },
  {
   "cell_type": "code",
   "execution_count": 53,
   "metadata": {
    "ExecuteTime": {
     "end_time": "2021-02-20T21:21:51.730488Z",
     "start_time": "2021-02-20T21:21:50.922852Z"
    }
   },
   "outputs": [
    {
     "data": {
      "text/plain": [
       "array([[0.        , 0.08420589, 0.12655557, ..., 0.        , 0.08420589,\n",
       "        0.        ],\n",
       "       [0.        , 0.        , 0.08904286, ..., 0.        , 0.        ,\n",
       "        0.        ],\n",
       "       [0.07548533, 0.        , 0.        , ..., 0.        , 0.08555758,\n",
       "        0.        ],\n",
       "       ...,\n",
       "       [0.        , 0.        , 0.17988032, ..., 0.        , 0.        ,\n",
       "        0.        ],\n",
       "       [0.18186292, 0.10306474, 0.07744955, ..., 0.        , 0.        ,\n",
       "        0.        ],\n",
       "       [0.11770541, 0.        , 0.        , ..., 0.        , 0.        ,\n",
       "        0.        ]])"
      ]
     },
     "execution_count": 53,
     "metadata": {},
     "output_type": "execute_result"
    }
   ],
   "source": [
    "#pickle.dump(vectorizer, open('../app/models/tf_idf.pickle', 'wb'))\n",
    "#vectorizer = pickle.load(open('../app/models/tf_idf.pickle', 'rb'))\n",
    "#vectorizer.transform(X_valid['book_desc']).toarray()"
   ]
  },
  {
   "cell_type": "code",
   "execution_count": 87,
   "metadata": {
    "ExecuteTime": {
     "end_time": "2021-02-20T22:24:29.572350Z",
     "start_time": "2021-02-20T22:24:29.526648Z"
    }
   },
   "outputs": [],
   "source": [
    "train = np.concatenate([X_train_vectorized.toarray(), X_train[['book_pages','book_rating_count','book_count','genre_count']]], axis=1)\n",
    "valid = np.concatenate([X_valid_vectorized.toarray(), X_valid[['book_pages','book_rating_count','book_count','genre_count']]], axis=1)"
   ]
  },
  {
   "cell_type": "markdown",
   "metadata": {},
   "source": [
    "## model"
   ]
  },
  {
   "cell_type": "code",
   "execution_count": null,
   "metadata": {
    "ExecuteTime": {
     "end_time": "2021-02-20T21:10:44.750984Z",
     "start_time": "2021-02-20T21:10:42.111Z"
    }
   },
   "outputs": [],
   "source": [
    "# preprocessor = ColumnTransformer(transformers=[('tf-idf', TfidfVectorizer(ngram_range=(1, 1), max_df=1.0, min_df=0.4), ['book_desc']),\n",
    "#                                                ('ohe', OneHotEncoder(), ['book_count'])])\n",
    "\n",
    "# clf_xgb = Pipeline(steps=[('preprocessor', preprocessor),\n",
    "#                           ('classifier', XGBRegressor(max_depth=3, learning_rate=0.1, n_estimators=100, n_jobs=-1))])"
   ]
  },
  {
   "cell_type": "code",
   "execution_count": 88,
   "metadata": {
    "ExecuteTime": {
     "end_time": "2021-02-20T22:24:44.061305Z",
     "start_time": "2021-02-20T22:24:35.284419Z"
    }
   },
   "outputs": [],
   "source": [
    "# clf_xgb = XGBRegressor(max_depth=3, learning_rate=0.1, n_estimators=100, n_jobs=-1)\n",
    "# clf_xgb.fit(X_train_vectorized , y_train)\n",
    "# y_pred = clf_xgb.predict(X_valid_vectorized )\n",
    "\n",
    "clf_xgb = XGBRegressor(max_depth=3, learning_rate=0.1, n_estimators=100, n_jobs=-1)\n",
    "clf_xgb.fit(train, y_train)\n",
    "y_pred = clf_xgb.predict(valid )"
   ]
  },
  {
   "cell_type": "code",
   "execution_count": 92,
   "metadata": {
    "ExecuteTime": {
     "end_time": "2021-02-20T22:30:07.870123Z",
     "start_time": "2021-02-20T22:30:07.859797Z"
    }
   },
   "outputs": [],
   "source": [
    "pickle.dump(clf_xgb, open('../app/models/model.pickle', 'wb'))"
   ]
  },
  {
   "cell_type": "code",
   "execution_count": 89,
   "metadata": {
    "ExecuteTime": {
     "end_time": "2021-02-20T22:24:46.813911Z",
     "start_time": "2021-02-20T22:24:46.795702Z"
    }
   },
   "outputs": [
    {
     "data": {
      "text/plain": [
       "0.3017615849903846"
      ]
     },
     "execution_count": 89,
     "metadata": {},
     "output_type": "execute_result"
    }
   ],
   "source": [
    "mean_squared_error(y_valid, y_pred, squared=False)"
   ]
  },
  {
   "cell_type": "code",
   "execution_count": 90,
   "metadata": {
    "ExecuteTime": {
     "end_time": "2021-02-20T22:24:57.622795Z",
     "start_time": "2021-02-20T22:24:57.618068Z"
    }
   },
   "outputs": [
    {
     "data": {
      "text/plain": [
       "0.3017615849903846"
      ]
     },
     "execution_count": 90,
     "metadata": {},
     "output_type": "execute_result"
    }
   ],
   "source": [
    "mean_squared_error(y_valid, y_pred, squared=False)"
   ]
  },
  {
   "cell_type": "code",
   "execution_count": null,
   "metadata": {
    "ExecuteTime": {
     "end_time": "2021-02-20T21:10:44.757212Z",
     "start_time": "2021-02-20T21:10:42.129Z"
    }
   },
   "outputs": [],
   "source": [
    "np.sqrt(mean_squared_error(y_valid, y_pred))"
   ]
  },
  {
   "cell_type": "code",
   "execution_count": null,
   "metadata": {},
   "outputs": [],
   "source": []
  }
 ],
 "metadata": {
  "kernelspec": {
   "display_name": "Python 3",
   "language": "python",
   "name": "python3"
  },
  "language_info": {
   "codemirror_mode": {
    "name": "ipython",
    "version": 3
   },
   "file_extension": ".py",
   "mimetype": "text/x-python",
   "name": "python",
   "nbconvert_exporter": "python",
   "pygments_lexer": "ipython3",
   "version": "3.8.5"
  },
  "latex_envs": {
   "LaTeX_envs_menu_present": true,
   "autoclose": false,
   "autocomplete": true,
   "bibliofile": "biblio.bib",
   "cite_by": "apalike",
   "current_citInitial": 1,
   "eqLabelWithNumbers": true,
   "eqNumInitial": 1,
   "hotkeys": {
    "equation": "Ctrl-E",
    "itemize": "Ctrl-I"
   },
   "labels_anchors": false,
   "latex_user_defs": false,
   "report_style_numbering": false,
   "user_envs_cfg": false
  },
  "toc": {
   "base_numbering": 1,
   "nav_menu": {},
   "number_sections": true,
   "sideBar": true,
   "skip_h1_title": false,
   "title_cell": "Table of Contents",
   "title_sidebar": "Contents",
   "toc_cell": false,
   "toc_position": {},
   "toc_section_display": true,
   "toc_window_display": false
  }
 },
 "nbformat": 4,
 "nbformat_minor": 4
}